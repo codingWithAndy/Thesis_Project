{
 "cells": [
  {
   "cell_type": "code",
   "execution_count": 1,
   "metadata": {},
   "outputs": [],
   "source": [
    "import pandas\n",
    "\n",
    "total_sum = 0 \n",
    "chunk_container = pandas.read_csv('/Users/andy/downloads/output.csv', sep=',')"
   ]
  },
  {
   "cell_type": "code",
   "execution_count": 2,
   "metadata": {},
   "outputs": [
    {
     "output_type": "execute_result",
     "data": {
      "text/plain": "                       created_at                   id               id_str  \\\n0  Thu Jan 23 16:44:53 +0000 2020  1220386935455330305  1220386935455330305   \n1  Thu Jan 23 20:00:38 +0000 2020  1220436196532375553  1220436196532375553   \n2  Thu Jan 23 23:16:05 +0000 2020  1220485382724186112  1220485382724186112   \n3  Fri Jan 24 03:48:02 +0000 2020  1220553821186936832  1220553821186936832   \n4  Fri Jan 24 18:37:57 +0000 2020  1220777777848377346  1220777777848377346   \n\n                                           full_text  \\\n0  RT @siwuol_: rt to save life #coronavirus http...   \n1  Flights Into the U.S. Are Not Being Rerouted f...   \n2  RT @siwuol_: rt to save life #coronavirus http...   \n3  Woman hospitalized in New Jersey with coronavi...   \n4  RT @CGTNOfficial: Construction began on the ni...   \n\n                                              source  truncated  \\\n0  <a href=\"http://twitter.com/download/iphone\" r...      False   \n1  <a href=\"http://www.socialflow.com\" rel=\"nofol...      False   \n2  <a href=\"https://mobile.twitter.com\" rel=\"nofo...      False   \n3  <a href=\"http://www.facebook.com/twitter\" rel=...      False   \n4  <a href=\"http://twitter.com/download/android\" ...      False   \n\n   in_reply_to_status_id  in_reply_to_status_id_str  in_reply_to_user_id  \\\n0                    NaN                        NaN                  NaN   \n1                    NaN                        NaN                  NaN   \n2                    NaN                        NaN                  NaN   \n3                    NaN                        NaN                  NaN   \n4                    NaN                        NaN                  NaN   \n\n   in_reply_to_user_id_str  ... matching_rules current_user_retweet scopes  \\\n0                      NaN  ...            NaN                  NaN    NaN   \n1                      NaN  ...            NaN                  NaN    NaN   \n2                      NaN  ...            NaN                  NaN    NaN   \n3                      NaN  ...            NaN                  NaN    NaN   \n4                      NaN  ...            NaN                  NaN    NaN   \n\n  withheld_copyright  withheld_in_countries  withheld_scope  geo contributors  \\\n0                NaN                    NaN             NaN  NaN          NaN   \n1                NaN                    NaN             NaN  NaN          NaN   \n2                NaN                    NaN             NaN  NaN          NaN   \n3                NaN                    NaN             NaN  NaN          NaN   \n4                NaN                    NaN             NaN  NaN          NaN   \n\n  display_text_range  quoted_status_permalink  \n0            [0, 65]                      NaN  \n1           [0, 104]                      NaN  \n2            [0, 65]                      NaN  \n3            [0, 82]                      NaN  \n4           [0, 140]                      NaN  \n\n[5 rows x 40 columns]",
      "text/html": "<div>\n<style scoped>\n    .dataframe tbody tr th:only-of-type {\n        vertical-align: middle;\n    }\n\n    .dataframe tbody tr th {\n        vertical-align: top;\n    }\n\n    .dataframe thead th {\n        text-align: right;\n    }\n</style>\n<table border=\"1\" class=\"dataframe\">\n  <thead>\n    <tr style=\"text-align: right;\">\n      <th></th>\n      <th>created_at</th>\n      <th>id</th>\n      <th>id_str</th>\n      <th>full_text</th>\n      <th>source</th>\n      <th>truncated</th>\n      <th>in_reply_to_status_id</th>\n      <th>in_reply_to_status_id_str</th>\n      <th>in_reply_to_user_id</th>\n      <th>in_reply_to_user_id_str</th>\n      <th>...</th>\n      <th>matching_rules</th>\n      <th>current_user_retweet</th>\n      <th>scopes</th>\n      <th>withheld_copyright</th>\n      <th>withheld_in_countries</th>\n      <th>withheld_scope</th>\n      <th>geo</th>\n      <th>contributors</th>\n      <th>display_text_range</th>\n      <th>quoted_status_permalink</th>\n    </tr>\n  </thead>\n  <tbody>\n    <tr>\n      <th>0</th>\n      <td>Thu Jan 23 16:44:53 +0000 2020</td>\n      <td>1220386935455330305</td>\n      <td>1220386935455330305</td>\n      <td>RT @siwuol_: rt to save life #coronavirus http...</td>\n      <td>&lt;a href=\"http://twitter.com/download/iphone\" r...</td>\n      <td>False</td>\n      <td>NaN</td>\n      <td>NaN</td>\n      <td>NaN</td>\n      <td>NaN</td>\n      <td>...</td>\n      <td>NaN</td>\n      <td>NaN</td>\n      <td>NaN</td>\n      <td>NaN</td>\n      <td>NaN</td>\n      <td>NaN</td>\n      <td>NaN</td>\n      <td>NaN</td>\n      <td>[0, 65]</td>\n      <td>NaN</td>\n    </tr>\n    <tr>\n      <th>1</th>\n      <td>Thu Jan 23 20:00:38 +0000 2020</td>\n      <td>1220436196532375553</td>\n      <td>1220436196532375553</td>\n      <td>Flights Into the U.S. Are Not Being Rerouted f...</td>\n      <td>&lt;a href=\"http://www.socialflow.com\" rel=\"nofol...</td>\n      <td>False</td>\n      <td>NaN</td>\n      <td>NaN</td>\n      <td>NaN</td>\n      <td>NaN</td>\n      <td>...</td>\n      <td>NaN</td>\n      <td>NaN</td>\n      <td>NaN</td>\n      <td>NaN</td>\n      <td>NaN</td>\n      <td>NaN</td>\n      <td>NaN</td>\n      <td>NaN</td>\n      <td>[0, 104]</td>\n      <td>NaN</td>\n    </tr>\n    <tr>\n      <th>2</th>\n      <td>Thu Jan 23 23:16:05 +0000 2020</td>\n      <td>1220485382724186112</td>\n      <td>1220485382724186112</td>\n      <td>RT @siwuol_: rt to save life #coronavirus http...</td>\n      <td>&lt;a href=\"https://mobile.twitter.com\" rel=\"nofo...</td>\n      <td>False</td>\n      <td>NaN</td>\n      <td>NaN</td>\n      <td>NaN</td>\n      <td>NaN</td>\n      <td>...</td>\n      <td>NaN</td>\n      <td>NaN</td>\n      <td>NaN</td>\n      <td>NaN</td>\n      <td>NaN</td>\n      <td>NaN</td>\n      <td>NaN</td>\n      <td>NaN</td>\n      <td>[0, 65]</td>\n      <td>NaN</td>\n    </tr>\n    <tr>\n      <th>3</th>\n      <td>Fri Jan 24 03:48:02 +0000 2020</td>\n      <td>1220553821186936832</td>\n      <td>1220553821186936832</td>\n      <td>Woman hospitalized in New Jersey with coronavi...</td>\n      <td>&lt;a href=\"http://www.facebook.com/twitter\" rel=...</td>\n      <td>False</td>\n      <td>NaN</td>\n      <td>NaN</td>\n      <td>NaN</td>\n      <td>NaN</td>\n      <td>...</td>\n      <td>NaN</td>\n      <td>NaN</td>\n      <td>NaN</td>\n      <td>NaN</td>\n      <td>NaN</td>\n      <td>NaN</td>\n      <td>NaN</td>\n      <td>NaN</td>\n      <td>[0, 82]</td>\n      <td>NaN</td>\n    </tr>\n    <tr>\n      <th>4</th>\n      <td>Fri Jan 24 18:37:57 +0000 2020</td>\n      <td>1220777777848377346</td>\n      <td>1220777777848377346</td>\n      <td>RT @CGTNOfficial: Construction began on the ni...</td>\n      <td>&lt;a href=\"http://twitter.com/download/android\" ...</td>\n      <td>False</td>\n      <td>NaN</td>\n      <td>NaN</td>\n      <td>NaN</td>\n      <td>NaN</td>\n      <td>...</td>\n      <td>NaN</td>\n      <td>NaN</td>\n      <td>NaN</td>\n      <td>NaN</td>\n      <td>NaN</td>\n      <td>NaN</td>\n      <td>NaN</td>\n      <td>NaN</td>\n      <td>[0, 140]</td>\n      <td>NaN</td>\n    </tr>\n  </tbody>\n</table>\n<p>5 rows × 40 columns</p>\n</div>"
     },
     "metadata": {},
     "execution_count": 2
    }
   ],
   "source": [
    "chunk_container.head()"
   ]
  },
  {
   "cell_type": "code",
   "execution_count": null,
   "metadata": {},
   "outputs": [],
   "source": []
  }
 ],
 "metadata": {
  "language_info": {
   "codemirror_mode": {
    "name": "ipython",
    "version": 3
   },
   "file_extension": ".py",
   "mimetype": "text/x-python",
   "name": "python",
   "nbconvert_exporter": "python",
   "pygments_lexer": "ipython3",
   "version": "3.7.3-final"
  },
  "orig_nbformat": 2,
  "kernelspec": {
   "name": "python3",
   "display_name": "Python 3"
  }
 },
 "nbformat": 4,
 "nbformat_minor": 2
}